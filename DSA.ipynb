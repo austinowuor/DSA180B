{
 "cells": [
  {
   "cell_type": "code",
   "execution_count": 1,
   "metadata": {},
   "outputs": [
    {
     "name": "stdout",
     "output_type": "stream",
     "text": [
      "hello world\n"
     ]
    }
   ],
   "source": [
    "print(\"hello world\")"
   ]
  },
  {
   "cell_type": "code",
   "execution_count": 1,
   "metadata": {},
   "outputs": [
    {
     "name": "stdout",
     "output_type": "stream",
     "text": [
      "The sum of 2.0 and 5.0 is 7.0\n"
     ]
    }
   ],
   "source": [
    "# Ask for input from the user\n",
    "num1 = float(input(\"Enter first number: \"))\n",
    "num2 = float(input(\"Enter second number: \"))\n",
    "\n",
    "# Add the two numbers\n",
    "sum = num1 + num2\n",
    "\n",
    "# Print the result\n",
    "print(\"The sum of {0} and {1} is {2}\".format(num1, num2, sum))"
   ]
  },
  {
   "cell_type": "code",
   "execution_count": 2,
   "metadata": {},
   "outputs": [
    {
     "name": "stdout",
     "output_type": "stream",
     "text": [
      "Five is greater than two!\n"
     ]
    }
   ],
   "source": [
    "if 5 > 2:\n",
    "    print(\"Five is greater than two!\") # This is a comment"
   ]
  },
  {
   "cell_type": "code",
   "execution_count": 1,
   "metadata": {},
   "outputs": [
    {
     "name": "stdout",
     "output_type": "stream",
     "text": [
      "llo\n"
     ]
    }
   ],
   "source": [
    "b=\"Hello, World!\"\n",
    "print(b[2:5])"
   ]
  },
  {
   "cell_type": "code",
   "execution_count": 3,
   "metadata": {},
   "outputs": [
    {
     "name": "stdout",
     "output_type": "stream",
     "text": [
      "Hello\n"
     ]
    }
   ],
   "source": [
    "b=\"Hello, World!\"\n",
    "print(b[:5])"
   ]
  },
  {
   "cell_type": "code",
   "execution_count": 2,
   "metadata": {},
   "outputs": [
    {
     "name": "stdout",
     "output_type": "stream",
     "text": [
      "Owuor\n"
     ]
    }
   ],
   "source": [
    "b=\"Austin Owuor\"\n",
    "print(b[7:12])"
   ]
  },
  {
   "cell_type": "code",
   "execution_count": 4,
   "metadata": {},
   "outputs": [
    {
     "name": "stdout",
     "output_type": "stream",
     "text": [
      "llo, World!\n"
     ]
    }
   ],
   "source": [
    "b=\"Hello, World!\"\n",
    "print(b[2:])"
   ]
  },
  {
   "cell_type": "code",
   "execution_count": 9,
   "metadata": {},
   "outputs": [
    {
     "name": "stdout",
     "output_type": "stream",
     "text": [
      "\n"
     ]
    }
   ],
   "source": [
    "b=\"Hello, World!\"\n",
    "print(b[-2:5])"
   ]
  },
  {
   "cell_type": "code",
   "execution_count": 10,
   "metadata": {},
   "outputs": [
    {
     "name": "stdout",
     "output_type": "stream",
     "text": [
      "HELLO, WORLD!\n"
     ]
    }
   ],
   "source": [
    "a=\"Hello, World!\"\n",
    "print(a.upper())"
   ]
  },
  {
   "cell_type": "code",
   "execution_count": 11,
   "metadata": {},
   "outputs": [
    {
     "name": "stdout",
     "output_type": "stream",
     "text": [
      "hello, world!\n"
     ]
    }
   ],
   "source": [
    "a=\"Hello, World!\"\n",
    "print(a.lower())"
   ]
  },
  {
   "cell_type": "code",
   "execution_count": 12,
   "metadata": {},
   "outputs": [
    {
     "name": "stdout",
     "output_type": "stream",
     "text": [
      "Jello, World!\n"
     ]
    }
   ],
   "source": [
    "a=\"Hello, World!\"\n",
    "print(a.replace(\"H\", \"J\"))"
   ]
  },
  {
   "cell_type": "code",
   "execution_count": 18,
   "metadata": {},
   "outputs": [
    {
     "name": "stdout",
     "output_type": "stream",
     "text": [
      "Hello\n",
      "World\n"
     ]
    }
   ],
   "source": [
    "a=\"Hello\"\n",
    "b=\"World\"\n",
    "c=a + \"\\n\" + b\n",
    "print(c)"
   ]
  },
  {
   "cell_type": "code",
   "execution_count": 20,
   "metadata": {},
   "outputs": [
    {
     "name": "stdout",
     "output_type": "stream",
     "text": [
      "My name is John, and I am 36\n"
     ]
    }
   ],
   "source": [
    "age=36\n",
    "txt=\"My name is John, and I am {}\"\n",
    "print(txt.format(age))"
   ]
  },
  {
   "cell_type": "code",
   "execution_count": 21,
   "metadata": {},
   "outputs": [
    {
     "name": "stdout",
     "output_type": "stream",
     "text": [
      "30\n"
     ]
    }
   ],
   "source": [
    "num1=10\n",
    "num2=20\n",
    "print(num1+num2)"
   ]
  },
  {
   "cell_type": "code",
   "execution_count": 22,
   "metadata": {},
   "outputs": [
    {
     "name": "stdout",
     "output_type": "stream",
     "text": [
      "The sum of 8 and 6 is 14.0\n"
     ]
    }
   ],
   "source": [
    "#store input numbers\n",
    "num1=input('Enter first number: ')\n",
    "num2=input('Enter second number: ')\n",
    "\n",
    "#add two numbers\n",
    "sum=float(num1)+float(num2)\n",
    " \n",
    "#display the sum\n",
    "print('The sum of {0} and {1} is {2}'.format(num1, num2, sum))"
   ]
  },
  {
   "cell_type": "code",
   "execution_count": null,
   "metadata": {},
   "outputs": [],
   "source": [
    "#cube of a number\n",
    "num=float(input('Enter a number: '))\n",
    "cube=num**3\n",
    "print('The cube of {0} is {1}'.format(num, cube))"
   ]
  },
  {
   "cell_type": "code",
   "execution_count": 23,
   "metadata": {},
   "outputs": [
    {
     "data": {
      "text/plain": [
       "30"
      ]
     },
     "execution_count": 23,
     "metadata": {},
     "output_type": "execute_result"
    }
   ],
   "source": [
    "#create a list\n",
    "L1=[10, 20, 30, 40, 50]\n",
    "L1[2]"
   ]
  },
  {
   "cell_type": "code",
   "execution_count": 26,
   "metadata": {},
   "outputs": [
    {
     "name": "stdout",
     "output_type": "stream",
     "text": [
      "0\n",
      "1\n",
      "2\n",
      "3\n",
      "[0, 1, 2, 3, 4, 5]\n",
      "[0, 1, 2, 3, 4, 5, 6, 7, 8, 9]\n",
      "[2, 3, 4]\n",
      "[1, 3, 5]\n"
     ]
    }
   ],
   "source": [
    "list=[0,1,2,3,4,5,6,7,8,9]\n",
    "print(list[0])\n",
    "print(list[1])\n",
    "print(list[2])\n",
    "print(list[3])\n",
    "\n",
    "#slice a list\n",
    "print(list[0:6])\n",
    "print(list[:])\n",
    "print(list [2:5])\n",
    "print(list [1:6:2])\n",
    "\n"
   ]
  },
  {
   "cell_type": "code",
   "execution_count": 3,
   "metadata": {},
   "outputs": [
    {
     "name": "stdout",
     "output_type": "stream",
     "text": [
      "[0, 1, 2, 3, 4, 5, 6, 7, 8, 9]\n",
      "[0, 1, 20, 3, 4, 5, 6, 7, 8, 9]\n"
     ]
    }
   ],
   "source": [
    "list=[0,1,2,3,4,5,6,7,8,9]\n",
    "print(list)\n",
    "list[2]=20\n",
    "print(list)"
   ]
  },
  {
   "cell_type": "code",
   "execution_count": 4,
   "metadata": {},
   "outputs": [
    {
     "name": "stdout",
     "output_type": "stream",
     "text": [
      "['apple', 'banana', 'cherry']\n",
      "['apple', 'banana', 'cherry', 'orange']\n"
     ]
    }
   ],
   "source": [
    "list=[\"apple\", \"banana\", \"cherry\"]  \n",
    "print(list)\n",
    "list.append(\"orange\")\n",
    "print(list)"
   ]
  },
  {
   "cell_type": "code",
   "execution_count": 5,
   "metadata": {},
   "outputs": [
    {
     "name": "stdout",
     "output_type": "stream",
     "text": [
      "['apple', 'banana', 'cherry']\n",
      "['orange', 'apple', 'banana', 'cherry']\n"
     ]
    }
   ],
   "source": [
    "list=[\"apple\", \"banana\", \"cherry\"]\n",
    "print(list)\n",
    "list.insert(0, \"orange\")\n",
    "print(list)"
   ]
  },
  {
   "cell_type": "code",
   "execution_count": 6,
   "metadata": {},
   "outputs": [
    {
     "name": "stdout",
     "output_type": "stream",
     "text": [
      "['apple', 'banana', 'cherry', 'orange', 'kiwi']\n",
      "['apple', 'cherry', 'orange', 'kiwi']\n"
     ]
    }
   ],
   "source": [
    "list=[\"apple\", \"banana\", \"cherry\", \"orange\", \"kiwi\"]\n",
    "print(list)\n",
    "list.remove(\"banana\")\n",
    "print(list)"
   ]
  },
  {
   "cell_type": "code",
   "execution_count": 7,
   "metadata": {},
   "outputs": [
    {
     "name": "stdout",
     "output_type": "stream",
     "text": [
      "['apple', 'banana', 'cherry', 'orange', 'kiwi']\n",
      "['apple', 'banana', 'cherry', 'kiwi']\n"
     ]
    }
   ],
   "source": [
    "list=[\"apple\", \"banana\", \"cherry\", \"orange\", \"kiwi\"]\n",
    "print(list)\n",
    "list.pop(3)\n",
    "print(list)"
   ]
  },
  {
   "cell_type": "code",
   "execution_count": 8,
   "metadata": {},
   "outputs": [
    {
     "name": "stdout",
     "output_type": "stream",
     "text": [
      "['apple', 'banana', 'cherry', 'orange', 'kiwi']\n",
      "['apple', 'banana', 'orange', 'kiwi']\n"
     ]
    }
   ],
   "source": [
    "list=[\"apple\", \"banana\", \"cherry\", \"orange\", \"kiwi\"]\n",
    "print(list) \n",
    "del list[2]\n",
    "print(list)"
   ]
  },
  {
   "cell_type": "code",
   "execution_count": 9,
   "metadata": {},
   "outputs": [
    {
     "name": "stdout",
     "output_type": "stream",
     "text": [
      "['apple', 'banana', 'cherry', 'orange', 'kiwi']\n",
      "[]\n"
     ]
    }
   ],
   "source": [
    "list=[\"apple\", \"banana\", \"cherry\", \"orange\", \"kiwi\"]    \n",
    "print(list)\n",
    "list.clear()\n",
    "print(list)"
   ]
  },
  {
   "cell_type": "code",
   "execution_count": 12,
   "metadata": {},
   "outputs": [
    {
     "name": "stdout",
     "output_type": "stream",
     "text": [
      "('apple', 'apple', 'banana', 'cherry')\n"
     ]
    }
   ],
   "source": [
    "thistuple=(\"apple\",\"apple\",\"banana\", \"cherry\")\n",
    "\n",
    "print(thistuple)"
   ]
  },
  {
   "cell_type": "code",
   "execution_count": 13,
   "metadata": {},
   "outputs": [
    {
     "name": "stdout",
     "output_type": "stream",
     "text": [
      "apple\n"
     ]
    }
   ],
   "source": [
    "thistuple=(\"apple\")\n",
    "print(thistuple)"
   ]
  },
  {
   "cell_type": "code",
   "execution_count": 14,
   "metadata": {},
   "outputs": [
    {
     "name": "stdout",
     "output_type": "stream",
     "text": [
      "('apple',)\n"
     ]
    }
   ],
   "source": [
    "thistuple=(\"apple\",)\n",
    "print(thistuple)"
   ]
  },
  {
   "cell_type": "code",
   "execution_count": 15,
   "metadata": {},
   "outputs": [
    {
     "name": "stdout",
     "output_type": "stream",
     "text": [
      "melon\n"
     ]
    }
   ],
   "source": [
    "thistuple =(\"apple\", \"banana\", \"cherry\", \"orange\", \"kiwi\", \"melon\", \"mango\")\n",
    "print(thistuple[5])"
   ]
  },
  {
   "cell_type": "code",
   "execution_count": 16,
   "metadata": {},
   "outputs": [
    {
     "name": "stdout",
     "output_type": "stream",
     "text": [
      "('cherry', 'orange', 'kiwi')\n"
     ]
    }
   ],
   "source": [
    "thistuple =(\"apple\", \"banana\", \"cherry\", \"orange\", \"kiwi\", \"melon\", \"mango\")\n",
    "print(thistuple[2:5])\n"
   ]
  },
  {
   "cell_type": "markdown",
   "metadata": {},
   "source": [
    "START TO END OF TUPLE"
   ]
  },
  {
   "cell_type": "code",
   "execution_count": 17,
   "metadata": {},
   "outputs": [
    {
     "name": "stdout",
     "output_type": "stream",
     "text": [
      "('apple', 'banana', 'cherry', 'orange')\n"
     ]
    }
   ],
   "source": [
    "thistuple =(\"apple\", \"banana\", \"cherry\", \"orange\", \"kiwi\", \"melon\", \"mango\")\n",
    "print(thistuple[:4])"
   ]
  },
  {
   "cell_type": "code",
   "execution_count": 18,
   "metadata": {},
   "outputs": [
    {
     "name": "stdout",
     "output_type": "stream",
     "text": [
      "('cherry', 'orange', 'kiwi', 'melon', 'mango')\n"
     ]
    }
   ],
   "source": [
    "thistuple =(\"apple\", \"banana\", \"cherry\", \"orange\", \"kiwi\", \"melon\", \"mango\")\n",
    "print(thistuple[2:])"
   ]
  },
  {
   "cell_type": "code",
   "execution_count": 1,
   "metadata": {},
   "outputs": [
    {
     "name": "stdout",
     "output_type": "stream",
     "text": [
      "('apple', 'banana', 'cherry', 'orange', 'kiwi', 'melon', 'mango', 'pineapple')\n"
     ]
    }
   ],
   "source": [
    "thistuple =(\"apple\", \"banana\", \"cherry\", \"orange\", \"kiwi\", \"melon\", \"mango\")\n",
    "y=list(thistuple)\n",
    "y.append(\"pineapple\")\n",
    "thistuple=tuple(y)\n",
    "print(thistuple)"
   ]
  },
  {
   "cell_type": "code",
   "execution_count": 2,
   "metadata": {},
   "outputs": [
    {
     "name": "stdout",
     "output_type": "stream",
     "text": [
      "('pineapple', 'banana', 'cherry', 'orange', 'kiwi', 'melon', 'mango')\n"
     ]
    }
   ],
   "source": [
    "thistuple =(\"apple\", \"banana\", \"cherry\", \"orange\", \"kiwi\", \"melon\", \"mango\")\n",
    "y=list(thistuple)\n",
    "y[0]=(\"pineapple\")\n",
    "thistuple=tuple(y)\n",
    "print(thistuple)"
   ]
  },
  {
   "cell_type": "code",
   "execution_count": 3,
   "metadata": {},
   "outputs": [
    {
     "name": "stdout",
     "output_type": "stream",
     "text": [
      "('apple', 'banana', 'cherry', 'orange', 'kiwi', 'melon', 'mango', 'strawberry', 'blueberry', 'raspberry')\n"
     ]
    }
   ],
   "source": [
    "thistuple =(\"apple\", \"banana\", \"cherry\", \"orange\", \"kiwi\", \"melon\", \"mango\")\n",
    "tuple1=(\"strawberry\", \"blueberry\", \"raspberry\")\n",
    "thistuple+=tuple1\n",
    "print(thistuple)"
   ]
  },
  {
   "cell_type": "code",
   "execution_count": null,
   "metadata": {},
   "outputs": [],
   "source": [
    "# Assignment on Tuples\n",
    "\n",
    "# 1. Create a tuple with at least 5 different fruits and print the tuple.\n",
    "fruits = (\"apple\", \"banana\", \"cherry\", \"date\", \"elderberry\")\n",
    "print(\"Original tuple:\", fruits)\n",
    "\n",
    "# 2. Access and print the second and fourth elements of the tuple.\n",
    "print(\"Second element:\", fruits[1])\n",
    "print(\"Fourth element:\", fruits[3])\n",
    "\n",
    "# 3. Create a new tuple by concatenating the original tuple with another tuple containing 3 more fruits.\n",
    "more_fruits = (\"fig\", \"grape\", \"honeydew\")\n",
    "all_fruits = fruits + more_fruits\n",
    "print(\"Concatenated tuple:\", all_fruits)\n",
    "\n",
    "# 4. Convert the concatenated tuple to a list, add a new fruit to the list, and convert it back to a tuple.\n",
    "fruits_list = list(all_fruits)\n",
    "fruits_list.append(\"kiwi\")\n",
    "updated_fruits = tuple(fruits_list)\n",
    "print(\"Updated tuple:\", updated_fruits)\n",
    "\n",
    "# 5. Find and print the length of the updated tuple.\n",
    "print(\"Length of updated tuple:\", len(updated_fruits))\n",
    "\n",
    "# 6. Check if a specific fruit (e.g., \"banana\") is present in the updated tuple and print the result.\n",
    "is_banana_present = \"banana\" in updated_fruits\n",
    "print(\"Is 'banana' present in the updated tuple?\", is_banana_present)\n",
    "\n",
    "# 7. Iterate through the updated tuple and print each fruit.\n",
    "print(\"Fruits in the updated tuple:\")\n",
    "for fruit in updated_fruits:\n",
    "    print(fruit)\n",
    "\n",
    "# 8. Create a tuple with a single element and print its type.\n",
    "single_element_tuple = (\"single_fruit\",)\n",
    "print(\"Single element tuple:\", single_element_tuple)\n",
    "print(\"Type of single element tuple:\", type(single_element_tuple))\n",
    "\n",
    "# 9. Unpack the first three elements of the updated tuple into three variables and print them.\n",
    "fruit1, fruit2, fruit3, *rest = updated_fruits\n",
    "print(\"First fruit:\", fruit1)\n",
    "print(\"Second fruit:\", fruit2)\n",
    "print(\"Third fruit:\", fruit3)\n",
    "\n",
    "# 10. Create a nested tuple and access an element from the inner tuple.\n",
    "nested_tuple = ((\"apple\", \"banana\"), (\"cherry\", \"date\"), (\"elderberry\", \"fig\"))\n",
    "print(\"Nested tuple:\", nested_tuple)\n",
    "print(\"Element from inner tuple:\", nested_tuple[1][1])"
   ]
  },
  {
   "cell_type": "code",
   "execution_count": null,
   "metadata": {},
   "outputs": [],
   "source": []
  },
  {
   "cell_type": "code",
   "execution_count": null,
   "metadata": {},
   "outputs": [],
   "source": [
    "index_of_kiwi = thistuple.index('kiwi')\n",
    "print(\"Index of 'kiwi':\", index_of_kiwi)# Assignment on Tuples\n",
    "\n",
    "# 1. Create a tuple with at least 5 different fruits and print the tuple.\n",
    "fruits = (\"apple\", \"banana\", \"cherry\", \"date\", \"elderberry\")\n",
    "print(\"Original tuple:\", fruits)\n",
    "\n",
    "# 2. Access and print the second and fourth elements of the tuple.\n",
    "print(\"Second element:\", fruits[1])\n",
    "print(\"Fourth element:\", fruits[3])\n",
    "\n",
    "# 3. Create a new tuple by concatenating the original tuple with another tuple containing 3 more fruits.\n",
    "more_fruits = (\"fig\", \"grape\", \"honeydew\")\n",
    "all_fruits = fruits + more_fruits\n",
    "print(\"Concatenated tuple:\", all_fruits)\n",
    "\n",
    "# 4. Convert the concatenated tuple to a list, add a new fruit to the list, and convert it back to a tuple.\n",
    "fruits_list = list(all_fruits)\n",
    "fruits_list.append(\"kiwi\")\n",
    "updated_fruits = tuple(fruits_list)\n",
    "print(\"Updated tuple:\", updated_fruits)\n",
    "\n",
    "# 5. Find and print the length of the updated tuple.\n",
    "print(\"Length of updated tuple:\", len(updated_fruits))\n",
    "\n",
    "# 6. Check if a specific fruit (e.g., \"banana\") is present in the updated tuple and print the result.\n",
    "is_banana_present = \"banana\" in updated_fruits\n",
    "print(\"Is 'banana' present in the updated tuple?\", is_banana_present)\n",
    "\n",
    "# 7. Iterate through the updated tuple and print each fruit.\n",
    "print(\"Fruits in the updated tuple:\")\n",
    "for fruit in updated_fruits:\n",
    "    print(fruit)\n",
    "\n",
    "# 8. Create a tuple with a single element and print its type.\n",
    "single_element_tuple = (\"single_fruit\",)\n",
    "print(\"Single element tuple:\", single_element_tuple)\n",
    "print(\"Type of single element tuple:\", type(single_element_tuple))\n",
    "\n",
    "# 9. Unpack the first three elements of the updated tuple into three variables and print them.\n",
    "fruit1, fruit2, fruit3, *rest = updated_fruits\n",
    "print(\"First fruit:\", fruit1)\n",
    "print(\"Second fruit:\", fruit2)\n",
    "print(\"Third fruit:\", fruit3)\n",
    "\n",
    "# 10. Create a nested tuple and access an element from the inner tuple.\n",
    "nested_tuple = ((\"apple\", \"banana\"), (\"cherry\", \"date\"), (\"elderberry\", \"fig\"))\n",
    "print(\"Nested tuple:\", nested_tuple)\n",
    "print(\"Element from inner tuple:\", nested_tuple[1][1])\n",
    "# 11. Create a tuple with at least 5 different items and print the tuple.\n",
    "items = (\"item1\", \"item2\", \"item3\", \"item4\", \"item5\")\n",
    "print(\"Original tuple:\", items)\n",
    "\n",
    "# 12. Access and print the first and last elements of the tuple.\n",
    "print(\"First element:\", items[0])\n",
    "print(\"Last element:\", items[-1])\n",
    "\n",
    "# 13. Create a new tuple by repeating the original tuple 3 times.\n",
    "repeated_items = items * 3\n",
    "print(\"Repeated tuple:\", repeated_items)\n",
    "\n",
    "# 14. Convert the repeated tuple to a list, remove an item from the list, and convert it back to a tuple.\n",
    "items_list = list(repeated_items)\n",
    "items_list.remove(\"item3\")\n",
    "updated_items = tuple(items_list)\n",
    "print(\"Updated tuple after removal:\", updated_items)\n",
    "\n",
    "# 15. Find and print the length of the updated tuple.\n",
    "print(\"Length of updated tuple after removal:\", len(updated_items))\n",
    "\n",
    "# 16. Check if a specific item (e.g., \"item2\") is present in the updated tuple and print the result.\n",
    "is_item2_present = \"item2\" in updated_items\n",
    "print(\"Is 'item2' present in the updated tuple?\", is_item2_present)\n",
    "\n",
    "# 17. Iterate through the updated tuple and print each item.\n",
    "print(\"Items in the updated tuple:\")\n",
    "for item in updated_items:\n",
    "    print(item)\n",
    "\n",
    "# 18. Create a tuple with a single element and print its type.\n",
    "single_element_tuple = (\"single_item\",)\n",
    "print(\"Single element tuple:\", single_element_tuple)\n",
    "print(\"Type of single element tuple:\", type(single_element_tuple))\n",
    "\n",
    "# 19. Unpack the first two elements of the updated tuple into two variables and print them.\n",
    "item1, item2, *rest = updated_items\n",
    "print(\"First item:\", item1)\n",
    "print(\"Second item:\", item2)\n",
    "\n",
    "# 20. Create a nested tuple and access an element from the inner tuple.\n",
    "nested_tuple = ((\"item1\", \"item2\"), (\"item3\", \"item4\"), (\"item5\", \"item6\"))\n",
    "print(\"Nested tuple:\", nested_tuple)\n",
    "print(\"Element from inner tuple:\", nested_tuple[2][1])"
   ]
  },
  {
   "cell_type": "code",
   "execution_count": 1,
   "metadata": {},
   "outputs": [
    {
     "name": "stdout",
     "output_type": "stream",
     "text": [
      "{'apple', 'banana', 'cherry'}\n"
     ]
    }
   ],
   "source": [
    "#this is a set\n",
    "thisset={\"apple\", \"banana\", \"cherry\"}\n",
    "print(thisset)"
   ]
  },
  {
   "cell_type": "code",
   "execution_count": 2,
   "metadata": {},
   "outputs": [
    {
     "name": "stdout",
     "output_type": "stream",
     "text": [
      "{'apple', 'banana', 'cherry'}\n"
     ]
    }
   ],
   "source": [
    "#set with duplicate values\n",
    "thisset={\"apple\", \"banana\", \"cherry\", \"apple\"}\n",
    "print(thisset)"
   ]
  },
  {
   "cell_type": "code",
   "execution_count": 3,
   "metadata": {},
   "outputs": [
    {
     "name": "stdout",
     "output_type": "stream",
     "text": [
      "{'apple', 2, 3, 1}\n"
     ]
    }
   ],
   "source": [
    "#set with mixed data types\n",
    "thisset={\"apple\", 1, 2, 3}\n",
    "print(thisset)"
   ]
  },
  {
   "cell_type": "code",
   "execution_count": 4,
   "metadata": {},
   "outputs": [
    {
     "name": "stdout",
     "output_type": "stream",
     "text": [
      "apple\n",
      "banana\n",
      "cherry\n"
     ]
    }
   ],
   "source": [
    "#loop through a set\n",
    "thisset={\"apple\", \"banana\", \"cherry\"}\n",
    "for x in thisset:\n",
    "    print(x)"
   ]
  },
  {
   "cell_type": "code",
   "execution_count": 5,
   "metadata": {},
   "outputs": [
    {
     "name": "stdout",
     "output_type": "stream",
     "text": [
      "{'apple', 'banana', 'cherry', 'orange'}\n"
     ]
    }
   ],
   "source": [
    "#add an item to a set\n",
    "thisset={\"apple\", \"banana\", \"cherry\"}\n",
    "thisset.add(\"orange\")\n",
    "print(thisset)"
   ]
  },
  {
   "cell_type": "code",
   "execution_count": 7,
   "metadata": {},
   "outputs": [
    {
     "name": "stdout",
     "output_type": "stream",
     "text": [
      "{'mango', 'pineapple', 'banana', 'cherry', 'apple', 'papaya'}\n"
     ]
    }
   ],
   "source": [
    "#add items from another set\n",
    "thisset={\"apple\", \"banana\", \"cherry\"}\n",
    "tropical={\"pineapple\", \"mango\", \"papaya\"}\n",
    "thisset.update(tropical)\n",
    "print(thisset)"
   ]
  },
  {
   "cell_type": "code",
   "execution_count": 8,
   "metadata": {},
   "outputs": [
    {
     "name": "stdout",
     "output_type": "stream",
     "text": [
      "{'apple', 'cherry'}\n"
     ]
    }
   ],
   "source": [
    "#remove an item from a set\n",
    "thisset={\"apple\", \"banana\", \"cherry\"}\n",
    "thisset.remove(\"banana\")\n",
    "print(thisset)"
   ]
  },
  {
   "cell_type": "code",
   "execution_count": null,
   "metadata": {},
   "outputs": [],
   "source": []
  },
  {
   "cell_type": "code",
   "execution_count": 9,
   "metadata": {},
   "outputs": [
    {
     "name": "stdout",
     "output_type": "stream",
     "text": [
      "{'apple', 'cherry'}\n"
     ]
    }
   ],
   "source": [
    "#remove an item from a set using discard()\n",
    "thisset={\"apple\", \"banana\", \"cherry\"}\n",
    "thisset.discard(\"banana\")   \n",
    "print(thisset)"
   ]
  },
  {
   "cell_type": "code",
   "execution_count": 10,
   "metadata": {},
   "outputs": [
    {
     "name": "stdout",
     "output_type": "stream",
     "text": [
      "{'banana', 'cherry'}\n"
     ]
    }
   ],
   "source": [
    "#remove the last item from a set\n",
    "thisset={\"apple\", \"banana\", \"cherry\"}   \n",
    "thisset.pop()\n",
    "print(thisset)\n"
   ]
  },
  {
   "cell_type": "code",
   "execution_count": 11,
   "metadata": {},
   "outputs": [
    {
     "name": "stdout",
     "output_type": "stream",
     "text": [
      "set()\n"
     ]
    }
   ],
   "source": [
    "#empty the set\n",
    "thisset={\"apple\", \"banana\", \"cherry\"}\n",
    "thisset.clear()\n",
    "print(thisset)"
   ]
  },
  {
   "cell_type": "code",
   "execution_count": 14,
   "metadata": {},
   "outputs": [
    {
     "ename": "NameError",
     "evalue": "name 'thisset' is not defined",
     "output_type": "error",
     "traceback": [
      "\u001b[1;31m---------------------------------------------------------------------------\u001b[0m",
      "\u001b[1;31mNameError\u001b[0m                                 Traceback (most recent call last)",
      "Cell \u001b[1;32mIn[14], line 4\u001b[0m\n\u001b[0;32m      2\u001b[0m thisset\u001b[38;5;241m=\u001b[39m{\u001b[38;5;124m\"\u001b[39m\u001b[38;5;124mapple\u001b[39m\u001b[38;5;124m\"\u001b[39m, \u001b[38;5;124m\"\u001b[39m\u001b[38;5;124mbanana\u001b[39m\u001b[38;5;124m\"\u001b[39m, \u001b[38;5;124m\"\u001b[39m\u001b[38;5;124mcherry\u001b[39m\u001b[38;5;124m\"\u001b[39m}\n\u001b[0;32m      3\u001b[0m \u001b[38;5;28;01mdel\u001b[39;00m thisset\n\u001b[1;32m----> 4\u001b[0m \u001b[38;5;28mprint\u001b[39m (\u001b[43mthisset\u001b[49m)\n",
      "\u001b[1;31mNameError\u001b[0m: name 'thisset' is not defined"
     ]
    }
   ],
   "source": [
    "#delete the set\n",
    "thisset={\"apple\", \"banana\", \"cherry\"}\n",
    "del thisset\n",
    "print (thisset)"
   ]
  },
  {
   "cell_type": "code",
   "execution_count": 15,
   "metadata": {},
   "outputs": [
    {
     "name": "stdout",
     "output_type": "stream",
     "text": [
      "{'brand': 'Ford', 'model': 'Mustang', 'year': 1964}\n"
     ]
    }
   ],
   "source": [
    "#create a dictionary\n",
    "thisdict={\n",
    "    \"brand\": \"Ford\",\n",
    "    \"model\": \"Mustang\",\n",
    "    \"year\": 1964\n",
    "}\n",
    "print(thisdict)"
   ]
  },
  {
   "cell_type": "code",
   "execution_count": 17,
   "metadata": {},
   "outputs": [
    {
     "name": "stdout",
     "output_type": "stream",
     "text": [
      "Ford\n"
     ]
    }
   ],
   "source": [
    "#create a dictionary\n",
    "thisdict={\n",
    "    \"brand\": \"Ford\",\n",
    "    \"model\": \"Mustang\",\n",
    "    \"year\": 1964\n",
    "}\n",
    "#print the value of the \"brand\" key\n",
    "print(thisdict[\"brand\"])"
   ]
  },
  {
   "cell_type": "code",
   "execution_count": 18,
   "metadata": {},
   "outputs": [
    {
     "name": "stdout",
     "output_type": "stream",
     "text": [
      "{'brand': 'Ford', 'model': 'Mustang', 'year': 2021}\n"
     ]
    }
   ],
   "source": [
    "#dictionary with duplicate values\n",
    "thisdict={\n",
    "    \"brand\": \"Ford\",\n",
    "    \"model\": \"Mustang\",\n",
    "    \"year\": 1964,\n",
    "    \"year\": 2021\n",
    "}\n",
    "print(thisdict)"
   ]
  },
  {
   "cell_type": "code",
   "execution_count": 19,
   "metadata": {},
   "outputs": [
    {
     "name": "stdout",
     "output_type": "stream",
     "text": [
      "3\n"
     ]
    }
   ],
   "source": [
    "#DETERMINE THE LENGTH OF A DICTIONARY\n",
    "thisdict={\n",
    "    \"brand\": \"Ford\",\n",
    "    \"model\": \"Mustang\",\n",
    "    \"year\": 1964\n",
    "}\n",
    "print(len(thisdict))\n"
   ]
  },
  {
   "cell_type": "code",
   "execution_count": 20,
   "metadata": {},
   "outputs": [
    {
     "name": "stdout",
     "output_type": "stream",
     "text": [
      "{'brand': 'Ford', 'electric': False, 'year': 1964, 'colors': ['red', 'white', 'blue']}\n"
     ]
    }
   ],
   "source": [
    "#DATA TYPES IN A DICTIONARY\n",
    "thisdict={\n",
    "    \"brand\": \"Ford\",\n",
    "    \"electric\": False,\n",
    "    \"year\": 1964,\n",
    "    \"colors\": [\"red\", \"white\", \"blue\"]\n",
    "}\n",
    "print(thisdict)"
   ]
  },
  {
   "cell_type": "code",
   "execution_count": 23,
   "metadata": {},
   "outputs": [
    {
     "name": "stdout",
     "output_type": "stream",
     "text": [
      "dict_keys(['brand', 'electric', 'year', 'colors'])\n",
      "{'brand': 'Ford', 'electric': False, 'year': 1964, 'colors': 'black'}\n"
     ]
    }
   ],
   "source": [
    "# get keys in a dictionary\n",
    "thisdict={\n",
    "    \"brand\": \"Ford\",\n",
    "    \"electric\": False,\n",
    "    \"year\": 1964,\n",
    "    \"colors\": [\"red\", \"white\", \"blue\"]\n",
    "}\n",
    "x=thisdict.keys()\n",
    "print(x)\n",
    "thisdict[\"colors\"]= \"black\"\n",
    "print(thisdict)\n"
   ]
  },
  {
   "cell_type": "code",
   "execution_count": 3,
   "metadata": {},
   "outputs": [
    {
     "name": "stdout",
     "output_type": "stream",
     "text": [
      "a is greater than b\n"
     ]
    }
   ],
   "source": [
    "#if statement\n",
    "a=50\n",
    "b=10\n",
    "if a>b:\n",
    "    print(\"a is greater than b\")"
   ]
  },
  {
   "cell_type": "code",
   "execution_count": 4,
   "metadata": {},
   "outputs": [
    {
     "name": "stdout",
     "output_type": "stream",
     "text": [
      "a and b are equal\n"
     ]
    }
   ],
   "source": [
    "#elif statement\n",
    "a=66\n",
    "b=66\n",
    "if b>a:\n",
    "    print(\"b is greater than a\")\n",
    "elif a==b:\n",
    "    print(\"a and b are equal\")\n"
   ]
  },
  {
   "cell_type": "code",
   "execution_count": 5,
   "metadata": {},
   "outputs": [
    {
     "name": "stdout",
     "output_type": "stream",
     "text": [
      "a is greater than b\n"
     ]
    }
   ],
   "source": [
    "#elif statement and else statement\n",
    "a=166\n",
    "b=66\n",
    "if b>a:\n",
    "    print(\"b is greater than a\")\n",
    "elif a==b:\n",
    "    print(\"a and b are equal\")\n",
    "else:\n",
    "    print(\"a is greater than b\")"
   ]
  },
  {
   "cell_type": "code",
   "execution_count": 7,
   "metadata": {},
   "outputs": [
    {
     "name": "stdout",
     "output_type": "stream",
     "text": [
      "a is greater than b\n"
     ]
    }
   ],
   "source": [
    "#else statement\n",
    "a=190\n",
    "b=100\n",
    "if b>a:\n",
    "    print(\"b is greater than a\")\n",
    "else:\n",
    "    print(\"a is greater than b\")"
   ]
  },
  {
   "cell_type": "code",
   "execution_count": 11,
   "metadata": {},
   "outputs": [
    {
     "name": "stdout",
     "output_type": "stream",
     "text": [
      "x is greater than y\n"
     ]
    }
   ],
   "source": [
    "#short hand if\n",
    "x=150\n",
    "y=100\n",
    "if x>y: print(\"x is greater than y\")\n"
   ]
  },
  {
   "cell_type": "code",
   "execution_count": 12,
   "metadata": {},
   "outputs": [
    {
     "name": "stdout",
     "output_type": "stream",
     "text": [
      "n is greater than m\n"
     ]
    }
   ],
   "source": [
    "#short hand if else\n",
    "m=789\n",
    "n=889\n",
    "print(\"m is greater than n\") if m>n else print(\"n is greater than m\")"
   ]
  },
  {
   "cell_type": "code",
   "execution_count": 15,
   "metadata": {},
   "outputs": [
    {
     "name": "stdout",
     "output_type": "stream",
     "text": [
      "o is greater than p\n"
     ]
    }
   ],
   "source": [
    "#multiple short hand if else\n",
    "o=8000\n",
    "p=1000\n",
    "print(\"o is greater than p\") if o>p else print(\"o is less than p\") if o<p else print(\"o and p are equal\")"
   ]
  },
  {
   "cell_type": "code",
   "execution_count": 16,
   "metadata": {},
   "outputs": [
    {
     "name": "stdout",
     "output_type": "stream",
     "text": [
      "Both conditions are True\n"
     ]
    }
   ],
   "source": [
    "#if else with AND\n",
    "q=200\n",
    "r=33\n",
    "s=500\n",
    "if q>r and s>q:\n",
    "    print(\"Both conditions are True\")"
   ]
  },
  {
   "cell_type": "code",
   "execution_count": 17,
   "metadata": {},
   "outputs": [
    {
     "name": "stdout",
     "output_type": "stream",
     "text": [
      "At least one of the conditions is True\n"
     ]
    }
   ],
   "source": [
    "#if else with OR\n",
    "q=200\n",
    "r=33\n",
    "s=500\n",
    "if q>r or q>s:\n",
    "    print(\"At least one of the conditions is True\")"
   ]
  },
  {
   "cell_type": "code",
   "execution_count": 21,
   "metadata": {},
   "outputs": [
    {
     "name": "stdout",
     "output_type": "stream",
     "text": [
      "Above ten,\n",
      "and also above 20!\n"
     ]
    }
   ],
   "source": [
    "#nested if\n",
    "t=100\n",
    "if t>10:\n",
    "    print(\"Above ten,\") #this is the first block\n",
    "    if t>20:\n",
    "        print(\"and also above 20!\")#this is the second block\n",
    "    else:\n",
    "        print(\"but not above 20.\")#this is the third block"
   ]
  },
  {
   "cell_type": "code",
   "execution_count": 24,
   "metadata": {},
   "outputs": [
    {
     "name": "stdout",
     "output_type": "stream",
     "text": [
      "Zero\n"
     ]
    }
   ],
   "source": [
    "#check if the number is positive or negative using nested if\n",
    "u=int(input(\"Enter a number: \"))\n",
    "if u>=0:\n",
    "    if u==0:\n",
    "        print(\"Zero\")\n",
    "    else:\n",
    "        print(\"Positive number\")\n",
    "else:\n",
    "    print(\"Negative number\")\n",
    "\n"
   ]
  },
  {
   "cell_type": "code",
   "execution_count": 27,
   "metadata": {},
   "outputs": [
    {
     "name": "stdout",
     "output_type": "stream",
     "text": [
      "1\n",
      "2\n",
      "3\n",
      "4\n",
      "5\n"
     ]
    }
   ],
   "source": [
    "#while loop\n",
    "i=1\n",
    "while i<6:\n",
    "    print(i)\n",
    "    i+=1\n",
    "    \n"
   ]
  },
  {
   "cell_type": "code",
   "execution_count": 28,
   "metadata": {},
   "outputs": [
    {
     "name": "stdout",
     "output_type": "stream",
     "text": [
      "1\n",
      "2\n",
      "3\n"
     ]
    }
   ],
   "source": [
    "#while loop with break statement\n",
    "j=1\n",
    "while j<6:\n",
    "    print(j)\n",
    "    if j==3:\n",
    "        break\n",
    "    j+=1"
   ]
  },
  {
   "cell_type": "code",
   "execution_count": 29,
   "metadata": {},
   "outputs": [
    {
     "name": "stdout",
     "output_type": "stream",
     "text": [
      "1\n",
      "2\n",
      "4\n",
      "5\n",
      "6\n"
     ]
    }
   ],
   "source": [
    "#continue statement in while loop\n",
    "k=0\n",
    "while k<6:\n",
    "    k+=1\n",
    "    if k==3:\n",
    "        continue\n",
    "    print(k)"
   ]
  },
  {
   "cell_type": "code",
   "execution_count": 1,
   "metadata": {},
   "outputs": [
    {
     "name": "stdout",
     "output_type": "stream",
     "text": [
      "Hello from a function\n"
     ]
    }
   ],
   "source": [
    "#simple function\n",
    "def my_function():\n",
    "    print(\"Hello from a function\")  \n",
    "my_function()\n",
    "\n",
    "\n"
   ]
  },
  {
   "cell_type": "code",
   "execution_count": 4,
   "metadata": {},
   "outputs": [
    {
     "name": "stdout",
     "output_type": "stream",
     "text": [
      "The number is odd\n"
     ]
    }
   ],
   "source": [
    "#function checking if number is even or odd\n",
    "def even_odd(num):\n",
    "    if num%2==0:\n",
    "        print(\"The number is even\")\n",
    "    else:\n",
    "        print(\"The number is odd\")\n",
    "even_odd(5)"
   ]
  },
  {
   "cell_type": "code",
   "execution_count": 5,
   "metadata": {},
   "outputs": [
    {
     "name": "stdout",
     "output_type": "stream",
     "text": [
      "Austin Owuor\n"
     ]
    }
   ],
   "source": [
    "#python function to demonstrate keyword and default arguments\n",
    "def student(firstname, lastname):\n",
    "    print(firstname, lastname)\n",
    "student(firstname=\"Austin\", lastname=\"Owuor\")\n",
    "\n"
   ]
  },
  {
   "cell_type": "code",
   "execution_count": 6,
   "metadata": {},
   "outputs": [
    {
     "name": "stdout",
     "output_type": "stream",
     "text": [
      "Sum of 4 and 5 is 9\n"
     ]
    }
   ],
   "source": [
    "#python function to demonstrate return keyword\n",
    "def add(a, b):\n",
    "    return a+b\n",
    "sum=add(4,5)\n",
    "print(\"Sum of 4 and 5 is\", sum)\n"
   ]
  },
  {
   "cell_type": "code",
   "execution_count": 1,
   "metadata": {},
   "outputs": [
    {
     "name": "stdout",
     "output_type": "stream",
     "text": [
      "I love Programming\n"
     ]
    }
   ],
   "source": [
    "#demonstrate how to open a file\n",
    "f=open(\"demofile.txt\", \"r\")\n",
    "print(f.read())\n",
    "f.close()"
   ]
  },
  {
   "cell_type": "code",
   "execution_count": 5,
   "metadata": {},
   "outputs": [],
   "source": [
    "#demonstrate how to write to a file\n",
    "f=open(\"demofile.txt\", \"a\")\n",
    "f.write(\"\\n Now the file has more content!\")\n",
    "f.close()"
   ]
  },
  {
   "cell_type": "code",
   "execution_count": 6,
   "metadata": {},
   "outputs": [
    {
     "name": "stdout",
     "output_type": "stream",
     "text": [
      "I lov\n"
     ]
    }
   ],
   "source": [
    "#reading parts of the file\n",
    "f=open(\"demofile.txt\", \"r\")\n",
    "print(f.read(5))\n"
   ]
  },
  {
   "cell_type": "code",
   "execution_count": 7,
   "metadata": {},
   "outputs": [
    {
     "name": "stdout",
     "output_type": "stream",
     "text": [
      "I love ProgrammingNow the file has more content!\n",
      "\n"
     ]
    }
   ],
   "source": [
    "#read one line of the file\n",
    "f=open(\"demofile.txt\", \"r\")\n",
    "print(f.readline())\n"
   ]
  },
  {
   "cell_type": "code",
   "execution_count": 9,
   "metadata": {},
   "outputs": [
    {
     "ename": "PermissionError",
     "evalue": "[WinError 32] The process cannot access the file because it is being used by another process: 'demofile.txt'",
     "output_type": "error",
     "traceback": [
      "\u001b[1;31m---------------------------------------------------------------------------\u001b[0m",
      "\u001b[1;31mPermissionError\u001b[0m                           Traceback (most recent call last)",
      "Cell \u001b[1;32mIn[9], line 3\u001b[0m\n\u001b[0;32m      1\u001b[0m \u001b[38;5;66;03m#delete a file\u001b[39;00m\n\u001b[0;32m      2\u001b[0m \u001b[38;5;28;01mimport\u001b[39;00m\u001b[38;5;250m \u001b[39m\u001b[38;5;21;01mos\u001b[39;00m\n\u001b[1;32m----> 3\u001b[0m \u001b[43mos\u001b[49m\u001b[38;5;241;43m.\u001b[39;49m\u001b[43mremove\u001b[49m\u001b[43m(\u001b[49m\u001b[38;5;124;43m\"\u001b[39;49m\u001b[38;5;124;43mdemofile.txt\u001b[39;49m\u001b[38;5;124;43m\"\u001b[39;49m\u001b[43m)\u001b[49m\n",
      "\u001b[1;31mPermissionError\u001b[0m: [WinError 32] The process cannot access the file because it is being used by another process: 'demofile.txt'"
     ]
    }
   ],
   "source": [
    "#delete a file\n",
    "import os\n",
    "os.remove(\"demofile.txt\")"
   ]
  },
  {
   "cell_type": "code",
   "execution_count": 13,
   "metadata": {},
   "outputs": [],
   "source": [
    "#create a new file\n",
    "f=open(\"myfile.txt\", \"a\")\n"
   ]
  },
  {
   "cell_type": "code",
   "execution_count": 15,
   "metadata": {},
   "outputs": [
    {
     "ename": "ZeroDivisionError",
     "evalue": "division by zero",
     "output_type": "error",
     "traceback": [
      "\u001b[1;31m---------------------------------------------------------------------------\u001b[0m",
      "\u001b[1;31mZeroDivisionError\u001b[0m                         Traceback (most recent call last)",
      "Cell \u001b[1;32mIn[15], line 4\u001b[0m\n\u001b[0;32m      2\u001b[0m a\u001b[38;5;241m=\u001b[39m\u001b[38;5;28mint\u001b[39m(\u001b[38;5;28minput\u001b[39m(\u001b[38;5;124m\"\u001b[39m\u001b[38;5;124mEnter a number: \u001b[39m\u001b[38;5;124m\"\u001b[39m))\n\u001b[0;32m      3\u001b[0m b\u001b[38;5;241m=\u001b[39m\u001b[38;5;28mint\u001b[39m(\u001b[38;5;28minput\u001b[39m(\u001b[38;5;124m\"\u001b[39m\u001b[38;5;124mEnter another number: \u001b[39m\u001b[38;5;124m\"\u001b[39m))\n\u001b[1;32m----> 4\u001b[0m c\u001b[38;5;241m=\u001b[39m\u001b[43ma\u001b[49m\u001b[38;5;241;43m/\u001b[39;49m\u001b[43mb\u001b[49m\n\u001b[0;32m      5\u001b[0m \u001b[38;5;28mprint\u001b[39m(\u001b[38;5;124m\"\u001b[39m\u001b[38;5;124ma/b=\u001b[39m\u001b[38;5;132;01m%d\u001b[39;00m\u001b[38;5;124m\"\u001b[39m\u001b[38;5;241m%\u001b[39mc)\n\u001b[0;32m      7\u001b[0m \u001b[38;5;66;03m#other code\u001b[39;00m\n",
      "\u001b[1;31mZeroDivisionError\u001b[0m: division by zero"
     ]
    }
   ],
   "source": [
    "#zero division error\n",
    "a=int(input(\"Enter a number: \"))\n",
    "b=int(input(\"Enter another number: \"))\n",
    "c=a/b\n",
    "print(\"a/b=%d\"%c)\n",
    "\n",
    "#other code\n",
    "(\"other code\")"
   ]
  },
  {
   "cell_type": "code",
   "execution_count": 16,
   "metadata": {},
   "outputs": [
    {
     "name": "stdout",
     "output_type": "stream",
     "text": [
      "Division by zero is not allowed\n"
     ]
    }
   ],
   "source": [
    "#try and except block\n",
    "try:\n",
    "    a=int(input(\"Enter a number: \"))\n",
    "    b=int(input(\"Enter another number: \"))\n",
    "    c=a/b\n",
    "    print(\"a/b=%d\"%c)\n",
    "except ZeroDivisionError:\n",
    "    print(\"Division by zero is not allowed\")"
   ]
  },
  {
   "cell_type": "code",
   "execution_count": 17,
   "metadata": {},
   "outputs": [
    {
     "name": "stdout",
     "output_type": "stream",
     "text": [
      "a/b=1\n",
      "Division successful\n"
     ]
    }
   ],
   "source": [
    "#try and except block with else\n",
    "try:\n",
    "    a=int(input(\"Enter a number: \"))\n",
    "    b=int(input(\"Enter another number: \"))\n",
    "    c=a/b\n",
    "    print(\"a/b=%d\"%c)\n",
    "except ZeroDivisionError:\n",
    "    print(\"Division by zero is not allowed\")\n",
    "else:\n",
    "    print(\"Division successful\")"
   ]
  },
  {
   "cell_type": "code",
   "execution_count": 2,
   "metadata": {},
   "outputs": [
    {
     "name": "stdout",
     "output_type": "stream",
     "text": [
      "[{'Name': 'Austin', 'Age': '19', 'Major ': 'IST', 'GPA': '2', 'Hobbies': 'CHILLING'}, {'Name': 'James', 'Age': '20', 'Major ': 'APT', 'GPA': '2', 'Hobbies': 'CHILLING'}, {'Name': 'Albert', 'Age': '25', 'Major ': 'IBA', 'GPA': '2.5', 'Hobbies': 'HIKING'}]\n"
     ]
    }
   ],
   "source": [
    "#READ CSV WITH DICTREADER\n",
    "import csv\n",
    "with open('Book1.csv') as csvfile:\n",
    "    m=list(csv.DictReader(csvfile))\n",
    "print(m[:3])\n",
    "\n",
    "    "
   ]
  },
  {
   "cell_type": "code",
   "execution_count": 3,
   "metadata": {},
   "outputs": [
    {
     "name": "stdout",
     "output_type": "stream",
     "text": [
      "[['Name', 'Age', 'Major ', 'GPA', 'Hobbies'], ['Austin', '19', 'IST', '2', 'CHILLING'], ['James', '20', 'APT', '2', 'CHILLING']]\n"
     ]
    }
   ],
   "source": [
    "#READ WITH READER\n",
    "import csv\n",
    "with open('Book1.csv') as csvfile:\n",
    "    m=list(csv.reader(csvfile)) \n",
    "print(m[:3])"
   ]
  },
  {
   "cell_type": "code",
   "execution_count": 4,
   "metadata": {},
   "outputs": [],
   "source": [
    "#write to csv with DictWriter\n",
    "import csv\n",
    "with open('Book1.csv', 'w', newline='') as csvfile:\n",
    "    fieldnames=['Name', 'Age', 'Major', 'GPA', 'Hobbies']\n",
    "    writer=csv.DictWriter(csvfile, fieldnames=fieldnames)\n",
    "    writer.writeheader()\n",
    "    writer.writerow({'Name': 'Alex', 'Age': '20', 'Major': 'Computer Science', 'GPA': '3.5', 'Hobbies': 'Reading'})\n",
    "    writer.writerow({'Name': 'John', 'Age': '22', 'Major': 'Biology', 'GPA': '3.0', 'Hobbies': 'Swimming'})\n",
    "    writer.writerow({'Name': 'Jane', 'Age': '21', 'Major': 'Mathematics', 'GPA': '3.8', 'Hobbies': 'Dancing'})\n",
    "    writer.writerow({'Name': 'Alice', 'Age': '23', 'Major': 'Physics', 'GPA': '3.7', 'Hobbies': 'Singing'})\n",
    "\n",
    "\n",
    "\n",
    "   \n",
    "\n",
    "  "
   ]
  },
  {
   "cell_type": "code",
   "execution_count": 8,
   "metadata": {},
   "outputs": [
    {
     "name": "stdout",
     "output_type": "stream",
     "text": [
      "['Name', 'Age', 'Major', 'GPA', 'Hobbies']\n",
      "['Alex', '20', 'Computer Science', '3.5', 'Reading']\n",
      "['John', '22', 'Biology', '3.0', 'Swimming']\n",
      "['Jane', '21', 'Mathematics', '3.8', 'Dancing']\n",
      "['Alice', '23', 'Physics', '3.7', 'Singing']\n"
     ]
    }
   ],
   "source": [
    "#Looping throw rows\n",
    "import csv\n",
    "f=open('Book1.csv')\n",
    "csv_f=csv.reader(f)\n",
    "for row in csv_f:\n",
    "    print(row)"
   ]
  },
  {
   "cell_type": "code",
   "execution_count": 9,
   "metadata": {},
   "outputs": [
    {
     "name": "stdout",
     "output_type": "stream",
     "text": [
      "['Major', 'Computer Science', 'Biology', 'Mathematics', 'Physics']\n"
     ]
    }
   ],
   "source": [
    "#loop throw rows and print to a list\n",
    "import csv\n",
    "f=open('Book1.csv')\n",
    "csv_f=csv.reader(f)\n",
    "model_no=[]\n",
    "for row in csv_f:\n",
    "    model_no.append(row[2])\n",
    "print(model_no)"
   ]
  },
  {
   "cell_type": "code",
   "execution_count": 10,
   "metadata": {},
   "outputs": [
    {
     "name": "stdout",
     "output_type": "stream",
     "text": [
      "Major\n",
      "Computer Science\n",
      "Biology\n",
      "Mathematics\n",
      "Physics\n"
     ]
    }
   ],
   "source": [
    "#extract information from a csv file\n",
    "import csv\n",
    "f=open('Book1.csv')\n",
    "csv_f=csv.reader(f)\n",
    "for row in csv_f:\n",
    "    print(row[2])"
   ]
  },
  {
   "cell_type": "code",
   "execution_count": 11,
   "metadata": {},
   "outputs": [
    {
     "name": "stdout",
     "output_type": "stream",
     "text": [
      "{'Biology', 'Computer Science', 'Physics', 'Major', 'Mathematics'}\n"
     ]
    }
   ],
   "source": [
    "#converting list to sets in a csv file\n",
    "import csv\n",
    "f=open('Book1.csv')\n",
    "csv_f=csv.reader(f)\n",
    "model_no=[]\n",
    "for row in csv_f:\n",
    "    model_no.append(row[2])\n",
    "print(set(model_no))"
   ]
  },
  {
   "cell_type": "code",
   "execution_count": 1,
   "metadata": {},
   "outputs": [
    {
     "data": {
      "text/plain": [
       "0        Bob\n",
       "1    Jessica\n",
       "2       Mary\n",
       "3       John\n",
       "4        Mel\n",
       "dtype: object"
      ]
     },
     "execution_count": 1,
     "metadata": {},
     "output_type": "execute_result"
    }
   ],
   "source": [
    "#series with arbitary list\n",
    "import pandas as pd\n",
    "names  = ['Bob', 'Jessica', 'Mary', 'John', 'Mel']\n",
    "pd.Series(names)\n",
    "\n"
   ]
  },
  {
   "cell_type": "code",
   "execution_count": 4,
   "metadata": {},
   "outputs": [
    {
     "data": {
      "text/plain": [
       "String1        Bob\n",
       "String2    Jessica\n",
       "String3       Mary\n",
       "String4       John\n",
       "String5        Mel\n",
       "dtype: object"
      ]
     },
     "execution_count": 4,
     "metadata": {},
     "output_type": "execute_result"
    }
   ],
   "source": [
    "#series with index\n",
    "import pandas as pd\n",
    "names  = ['Bob', 'Jessica', 'Mary', 'John', 'Mel']\n",
    "pd.Series(names, index=['String1', 'String2', 'String3', 'String4', 'String5'])\n"
   ]
  },
  {
   "cell_type": "code",
   "execution_count": null,
   "metadata": {},
   "outputs": [
    {
     "data": {
      "text/plain": [
       "science      100\n",
       "math          95\n",
       "english       90\n",
       "history       85\n",
       "geography     80\n",
       "dtype: int64"
      ]
     },
     "execution_count": 6,
     "metadata": {},
     "output_type": "execute_result"
    }
   ],
   "source": [
    "#series with a dictionary\n",
    "import pandas as pd\n",
    "dict={'science': 100, 'math': 95, 'english': 90, 'history': 85, 'geography': 80}\n",
    "pd.Series(dict)\n"
   ]
  },
  {
   "cell_type": "code",
   "execution_count": 9,
   "metadata": {},
   "outputs": [
    {
     "name": "stdout",
     "output_type": "stream",
     "text": [
      "Index(['science', 'math', 'english', 'history', 'geography'], dtype='object')\n"
     ]
    }
   ],
   "source": [
    "#print index of a series\n",
    "import pandas as pd\n",
    "dict={'science': 100, 'math': 95, 'english': 90, 'history': 85, 'geography': 80}\n",
    "s=pd.Series(dict)\n",
    "print(s.index)"
   ]
  },
  {
   "cell_type": "code",
   "execution_count": null,
   "metadata": {},
   "outputs": [
    {
     "data": {
      "text/plain": [
       "0        Bob\n",
       "1    Jessica\n",
       "2       Mary\n",
       "3       John\n",
       "4        Mel\n",
       "5       None\n",
       "dtype: object"
      ]
     },
     "execution_count": 11,
     "metadata": {},
     "output_type": "execute_result"
    }
   ],
   "source": [
    "#none\n",
    "import numpy as np\n",
    "import pandas as pd\n",
    "names=['Bob', 'Jessica', 'Mary', 'John', 'Mel',None]\n",
    "pd.Series(names)"
   ]
  },
  {
   "cell_type": "code",
   "execution_count": 12,
   "metadata": {},
   "outputs": [
    {
     "data": {
      "text/plain": [
       "0    1.0\n",
       "1    2.0\n",
       "2    3.0\n",
       "3    4.0\n",
       "4    5.0\n",
       "5    NaN\n",
       "dtype: float64"
      ]
     },
     "execution_count": 12,
     "metadata": {},
     "output_type": "execute_result"
    }
   ],
   "source": [
    "#nan\n",
    "import numpy as np\n",
    "import pandas as pd\n",
    "numbers=[1, 2, 3, 4, 5,None]\n",
    "pd.Series(numbers)"
   ]
  },
  {
   "cell_type": "code",
   "execution_count": 14,
   "metadata": {},
   "outputs": [
    {
     "name": "stdout",
     "output_type": "stream",
     "text": [
      "Mary\n",
      "John\n"
     ]
    }
   ],
   "source": [
    "#iloc vs loc\n",
    "import pandas as pd\n",
    "names=['Bob', 'Jessica', 'Mary', 'John', 'Mel'] \n",
    "s=pd.Series(names, index=['A', 'B', 'C', 'D', 'E'])\n",
    "print(s.iloc[2])\n",
    "#loc\n",
    "print(s.loc['D'])"
   ]
  },
  {
   "cell_type": "code",
   "execution_count": 16,
   "metadata": {},
   "outputs": [
    {
     "data": {
      "text/html": [
       "<div>\n",
       "<style scoped>\n",
       "    .dataframe tbody tr th:only-of-type {\n",
       "        vertical-align: middle;\n",
       "    }\n",
       "\n",
       "    .dataframe tbody tr th {\n",
       "        vertical-align: top;\n",
       "    }\n",
       "\n",
       "    .dataframe thead th {\n",
       "        text-align: right;\n",
       "    }\n",
       "</style>\n",
       "<table border=\"1\" class=\"dataframe\">\n",
       "  <thead>\n",
       "    <tr style=\"text-align: right;\">\n",
       "      <th></th>\n",
       "      <th>A</th>\n",
       "      <th>B</th>\n",
       "      <th>C</th>\n",
       "      <th>D</th>\n",
       "    </tr>\n",
       "  </thead>\n",
       "  <tbody>\n",
       "    <tr>\n",
       "      <th>2025-01-01</th>\n",
       "      <td>0.890481</td>\n",
       "      <td>-0.169579</td>\n",
       "      <td>1.164888</td>\n",
       "      <td>0.208309</td>\n",
       "    </tr>\n",
       "    <tr>\n",
       "      <th>2025-01-02</th>\n",
       "      <td>-1.841012</td>\n",
       "      <td>-0.001797</td>\n",
       "      <td>-0.385076</td>\n",
       "      <td>-0.282027</td>\n",
       "    </tr>\n",
       "    <tr>\n",
       "      <th>2025-01-03</th>\n",
       "      <td>-1.107914</td>\n",
       "      <td>-0.807277</td>\n",
       "      <td>-1.489077</td>\n",
       "      <td>1.025848</td>\n",
       "    </tr>\n",
       "    <tr>\n",
       "      <th>2025-01-04</th>\n",
       "      <td>-0.036599</td>\n",
       "      <td>1.068752</td>\n",
       "      <td>-0.788330</td>\n",
       "      <td>-1.092406</td>\n",
       "    </tr>\n",
       "    <tr>\n",
       "      <th>2025-01-05</th>\n",
       "      <td>-0.884406</td>\n",
       "      <td>1.638564</td>\n",
       "      <td>-1.609230</td>\n",
       "      <td>0.281902</td>\n",
       "    </tr>\n",
       "    <tr>\n",
       "      <th>2025-01-06</th>\n",
       "      <td>0.508181</td>\n",
       "      <td>0.358307</td>\n",
       "      <td>-1.384857</td>\n",
       "      <td>0.645382</td>\n",
       "    </tr>\n",
       "  </tbody>\n",
       "</table>\n",
       "</div>"
      ],
      "text/plain": [
       "                   A         B         C         D\n",
       "2025-01-01  0.890481 -0.169579  1.164888  0.208309\n",
       "2025-01-02 -1.841012 -0.001797 -0.385076 -0.282027\n",
       "2025-01-03 -1.107914 -0.807277 -1.489077  1.025848\n",
       "2025-01-04 -0.036599  1.068752 -0.788330 -1.092406\n",
       "2025-01-05 -0.884406  1.638564 -1.609230  0.281902\n",
       "2025-01-06  0.508181  0.358307 -1.384857  0.645382"
      ]
     },
     "execution_count": 16,
     "metadata": {},
     "output_type": "execute_result"
    }
   ],
   "source": [
    "#Dataframe passing numpy array with datetime index\n",
    "import numpy as np\n",
    "import pandas as pd\n",
    "dates=pd.date_range('20250101', periods=6)\n",
    "dates\n",
    "df=pd.DataFrame(np.random.randn(6,4), index=dates, columns=list('ABCD'))\n",
    "df"
   ]
  },
  {
   "cell_type": "code",
   "execution_count": 18,
   "metadata": {},
   "outputs": [
    {
     "data": {
      "text/html": [
       "<div>\n",
       "<style scoped>\n",
       "    .dataframe tbody tr th:only-of-type {\n",
       "        vertical-align: middle;\n",
       "    }\n",
       "\n",
       "    .dataframe tbody tr th {\n",
       "        vertical-align: top;\n",
       "    }\n",
       "\n",
       "    .dataframe thead th {\n",
       "        text-align: right;\n",
       "    }\n",
       "</style>\n",
       "<table border=\"1\" class=\"dataframe\">\n",
       "  <thead>\n",
       "    <tr style=\"text-align: right;\">\n",
       "      <th></th>\n",
       "      <th>A</th>\n",
       "      <th>B</th>\n",
       "      <th>C</th>\n",
       "      <th>D</th>\n",
       "      <th>E</th>\n",
       "      <th>F</th>\n",
       "    </tr>\n",
       "  </thead>\n",
       "  <tbody>\n",
       "    <tr>\n",
       "      <th>0</th>\n",
       "      <td>1.0</td>\n",
       "      <td>2025-01-02</td>\n",
       "      <td>1.0</td>\n",
       "      <td>3</td>\n",
       "      <td>test</td>\n",
       "      <td>foo</td>\n",
       "    </tr>\n",
       "    <tr>\n",
       "      <th>1</th>\n",
       "      <td>1.0</td>\n",
       "      <td>2025-01-02</td>\n",
       "      <td>1.0</td>\n",
       "      <td>3</td>\n",
       "      <td>train</td>\n",
       "      <td>foo</td>\n",
       "    </tr>\n",
       "    <tr>\n",
       "      <th>2</th>\n",
       "      <td>1.0</td>\n",
       "      <td>2025-01-02</td>\n",
       "      <td>1.0</td>\n",
       "      <td>3</td>\n",
       "      <td>test</td>\n",
       "      <td>foo</td>\n",
       "    </tr>\n",
       "    <tr>\n",
       "      <th>3</th>\n",
       "      <td>1.0</td>\n",
       "      <td>2025-01-02</td>\n",
       "      <td>1.0</td>\n",
       "      <td>3</td>\n",
       "      <td>train</td>\n",
       "      <td>foo</td>\n",
       "    </tr>\n",
       "  </tbody>\n",
       "</table>\n",
       "</div>"
      ],
      "text/plain": [
       "     A          B    C  D      E    F\n",
       "0  1.0 2025-01-02  1.0  3   test  foo\n",
       "1  1.0 2025-01-02  1.0  3  train  foo\n",
       "2  1.0 2025-01-02  1.0  3   test  foo\n",
       "3  1.0 2025-01-02  1.0  3  train  foo"
      ]
     },
     "execution_count": 18,
     "metadata": {},
     "output_type": "execute_result"
    }
   ],
   "source": [
    "#dataframe with objects passed to series\n",
    "import pandas as pd\n",
    "df2=pd.DataFrame({'A' : 1.,\n",
    "     'B' : pd.Timestamp('20250102'),\n",
    "     'C' : pd.Series(1, index=list(range(4)), dtype='float32'),\n",
    "     'D' : np.array([3]*4, dtype='int32'),\n",
    "     'E' : pd.Categorical([\"test\", \"train\", \"test\", \"train\"]),\n",
    "     'F' : 'foo'})\n",
    "df2"
   ]
  },
  {
   "cell_type": "code",
   "execution_count": null,
   "metadata": {},
   "outputs": [
    {
     "data": {
      "text/html": [
       "<div>\n",
       "<style scoped>\n",
       "    .dataframe tbody tr th:only-of-type {\n",
       "        vertical-align: middle;\n",
       "    }\n",
       "\n",
       "    .dataframe tbody tr th {\n",
       "        vertical-align: top;\n",
       "    }\n",
       "\n",
       "    .dataframe thead th {\n",
       "        text-align: right;\n",
       "    }\n",
       "</style>\n",
       "<table border=\"1\" class=\"dataframe\">\n",
       "  <thead>\n",
       "    <tr style=\"text-align: right;\">\n",
       "      <th></th>\n",
       "      <th>Student</th>\n",
       "      <th>ID</th>\n",
       "      <th>Major</th>\n",
       "      <th>GPA</th>\n",
       "    </tr>\n",
       "  </thead>\n",
       "  <tbody>\n",
       "    <tr>\n",
       "      <th>Student</th>\n",
       "      <td>James</td>\n",
       "      <td>1</td>\n",
       "      <td>Mathematics</td>\n",
       "      <td>3.5</td>\n",
       "    </tr>\n",
       "    <tr>\n",
       "      <th>ID</th>\n",
       "      <td>John</td>\n",
       "      <td>2</td>\n",
       "      <td>Physics</td>\n",
       "      <td>3.7</td>\n",
       "    </tr>\n",
       "    <tr>\n",
       "      <th>Major</th>\n",
       "      <td>Jane</td>\n",
       "      <td>3</td>\n",
       "      <td>Biology</td>\n",
       "      <td>3.8</td>\n",
       "    </tr>\n",
       "    <tr>\n",
       "      <th>GPA</th>\n",
       "      <td>Alice</td>\n",
       "      <td>4</td>\n",
       "      <td>Computer Science</td>\n",
       "      <td>3.9</td>\n",
       "    </tr>\n",
       "  </tbody>\n",
       "</table>\n",
       "</div>"
      ],
      "text/plain": [
       "        Student  ID             Major  GPA\n",
       "Student   James   1       Mathematics  3.5\n",
       "ID         John   2           Physics  3.7\n",
       "Major      Jane   3           Biology  3.8\n",
       "GPA       Alice   4  Computer Science  3.9"
      ]
     },
     "execution_count": 5,
     "metadata": {},
     "output_type": "execute_result"
    }
   ],
   "source": [
    "#creating a dataframe\n",
    "import pandas as pd\n",
    "name_1=pd.Series({'Student':'James','ID':1,'Major':'Mathematics','GPA':3.5})\n",
    "name_2=pd.Series({'Student':'John','ID':2,'Major':'Physics','GPA':3.7})\n",
    "name_3=pd.Series({'Student':'Jane','ID':3,'Major':'Biology','GPA':3.8})\n",
    "name_4=pd.Series({'Student':'Alice','ID':4,'Major':'Computer Science','GPA':3.9})\n",
    "df=pd.DataFrame([name_1, name_2, name_3, name_4],index=['Student','ID','Major','GPA'])\n",
    "df.head()\n",
    "\n",
    "\n",
    "\n"
   ]
  },
  {
   "cell_type": "code",
   "execution_count": 7,
   "metadata": {},
   "outputs": [
    {
     "data": {
      "text/html": [
       "<div>\n",
       "<style scoped>\n",
       "    .dataframe tbody tr th:only-of-type {\n",
       "        vertical-align: middle;\n",
       "    }\n",
       "\n",
       "    .dataframe tbody tr th {\n",
       "        vertical-align: top;\n",
       "    }\n",
       "\n",
       "    .dataframe thead th {\n",
       "        text-align: right;\n",
       "    }\n",
       "</style>\n",
       "<table border=\"1\" class=\"dataframe\">\n",
       "  <thead>\n",
       "    <tr style=\"text-align: right;\">\n",
       "      <th></th>\n",
       "      <th>Student</th>\n",
       "      <th>ID</th>\n",
       "      <th>Major</th>\n",
       "      <th>GPA</th>\n",
       "    </tr>\n",
       "  </thead>\n",
       "  <tbody>\n",
       "    <tr>\n",
       "      <th>Student</th>\n",
       "      <td>James</td>\n",
       "      <td>1</td>\n",
       "      <td>Mathematics</td>\n",
       "      <td>3.5</td>\n",
       "    </tr>\n",
       "    <tr>\n",
       "      <th>ID</th>\n",
       "      <td>John</td>\n",
       "      <td>2</td>\n",
       "      <td>Physics</td>\n",
       "      <td>3.7</td>\n",
       "    </tr>\n",
       "    <tr>\n",
       "      <th>Major</th>\n",
       "      <td>Jane</td>\n",
       "      <td>3</td>\n",
       "      <td>Biology</td>\n",
       "      <td>3.8</td>\n",
       "    </tr>\n",
       "  </tbody>\n",
       "</table>\n",
       "</div>"
      ],
      "text/plain": [
       "        Student  ID        Major  GPA\n",
       "Student   James   1  Mathematics  3.5\n",
       "ID         John   2      Physics  3.7\n",
       "Major      Jane   3      Biology  3.8"
      ]
     },
     "execution_count": 7,
     "metadata": {},
     "output_type": "execute_result"
    }
   ],
   "source": [
    "#extract using loc\n",
    "import pandas as pd\n",
    "name_1=pd.Series({'Student':'James','ID':1,'Major':'Mathematics','GPA':3.5})\n",
    "name_2=pd.Series({'Student':'John','ID':2,'Major':'Physics','GPA':3.7})\n",
    "name_3=pd.Series({'Student':'Jane','ID':3,'Major':'Biology','GPA':3.8})\n",
    "name_4=pd.Series({'Student':'Alice','ID':4,'Major':'Computer Science','GPA':3.9})\n",
    "df=pd.DataFrame([name_1, name_2, name_3, name_4],index=['Student','ID','Major','GPA'])\n",
    "df.loc['Student']\n",
    "df.loc['Student':'Major']"
   ]
  },
  {
   "cell_type": "code",
   "execution_count": null,
   "metadata": {},
   "outputs": [
    {
     "data": {
      "text/html": [
       "<div>\n",
       "<style scoped>\n",
       "    .dataframe tbody tr th:only-of-type {\n",
       "        vertical-align: middle;\n",
       "    }\n",
       "\n",
       "    .dataframe tbody tr th {\n",
       "        vertical-align: top;\n",
       "    }\n",
       "\n",
       "    .dataframe thead th {\n",
       "        text-align: right;\n",
       "    }\n",
       "</style>\n",
       "<table border=\"1\" class=\"dataframe\">\n",
       "  <thead>\n",
       "    <tr style=\"text-align: right;\">\n",
       "      <th></th>\n",
       "      <th>Name</th>\n",
       "      <th>Identification</th>\n",
       "      <th>Subject</th>\n",
       "      <th>Grade</th>\n",
       "    </tr>\n",
       "  </thead>\n",
       "  <tbody>\n",
       "    <tr>\n",
       "      <th>Student</th>\n",
       "      <td>James</td>\n",
       "      <td>1</td>\n",
       "      <td>Mathematics</td>\n",
       "      <td>3.5</td>\n",
       "    </tr>\n",
       "    <tr>\n",
       "      <th>ID</th>\n",
       "      <td>John</td>\n",
       "      <td>2</td>\n",
       "      <td>Physics</td>\n",
       "      <td>3.7</td>\n",
       "    </tr>\n",
       "    <tr>\n",
       "      <th>Major</th>\n",
       "      <td>Jane</td>\n",
       "      <td>3</td>\n",
       "      <td>Biology</td>\n",
       "      <td>3.8</td>\n",
       "    </tr>\n",
       "    <tr>\n",
       "      <th>GPA</th>\n",
       "      <td>Alice</td>\n",
       "      <td>4</td>\n",
       "      <td>Computer Science</td>\n",
       "      <td>3.9</td>\n",
       "    </tr>\n",
       "  </tbody>\n",
       "</table>\n",
       "</div>"
      ],
      "text/plain": [
       "          Name  Identification           Subject  Grade\n",
       "Student  James               1       Mathematics    3.5\n",
       "ID        John               2           Physics    3.7\n",
       "Major     Jane               3           Biology    3.8\n",
       "GPA      Alice               4  Computer Science    3.9"
      ]
     },
     "execution_count": 15,
     "metadata": {},
     "output_type": "execute_result"
    }
   ],
   "source": [
    "#rename columns\n",
    "import pandas as pd\n",
    "\n",
    "df.rename(columns={'Student':'Name', 'ID':'Identification', 'Major':'Subject', 'GPA':'Grade'}, inplace=True)\n",
    "df.head()"
   ]
  },
  {
   "cell_type": "code",
   "execution_count": null,
   "metadata": {},
   "outputs": [
    {
     "data": {
      "text/html": [
       "<div>\n",
       "<style scoped>\n",
       "    .dataframe tbody tr th:only-of-type {\n",
       "        vertical-align: middle;\n",
       "    }\n",
       "\n",
       "    .dataframe tbody tr th {\n",
       "        vertical-align: top;\n",
       "    }\n",
       "\n",
       "    .dataframe thead th {\n",
       "        text-align: right;\n",
       "    }\n",
       "</style>\n",
       "<table border=\"1\" class=\"dataframe\">\n",
       "  <thead>\n",
       "    <tr style=\"text-align: right;\">\n",
       "      <th></th>\n",
       "      <th>Student</th>\n",
       "      <th>ID</th>\n",
       "      <th>Major</th>\n",
       "      <th>GPA</th>\n",
       "    </tr>\n",
       "  </thead>\n",
       "  <tbody>\n",
       "    <tr>\n",
       "      <th>ID</th>\n",
       "      <td>John</td>\n",
       "      <td>2</td>\n",
       "      <td>Physics</td>\n",
       "      <td>3.7</td>\n",
       "    </tr>\n",
       "    <tr>\n",
       "      <th>Major</th>\n",
       "      <td>Jane</td>\n",
       "      <td>3</td>\n",
       "      <td>Biology</td>\n",
       "      <td>3.8</td>\n",
       "    </tr>\n",
       "    <tr>\n",
       "      <th>GPA</th>\n",
       "      <td>Alice</td>\n",
       "      <td>4</td>\n",
       "      <td>Computer Science</td>\n",
       "      <td>3.9</td>\n",
       "    </tr>\n",
       "  </tbody>\n",
       "</table>\n",
       "</div>"
      ],
      "text/plain": [
       "      Student  ID             Major  GPA\n",
       "ID       John   2           Physics  3.7\n",
       "Major    Jane   3           Biology  3.8\n",
       "GPA     Alice   4  Computer Science  3.9"
      ]
     },
     "execution_count": 17,
     "metadata": {},
     "output_type": "execute_result"
    }
   ],
   "source": [
    "#drop columns\n",
    "import pandas as pd\n",
    "\n",
    "df=pd.DataFrame([name_1, name_2, name_3, name_4],index=['Student','ID','Major','GPA'])\n",
    "df.drop('Student', axis=0, inplace=True)\n",
    "df.head()\n"
   ]
  },
  {
   "cell_type": "code",
   "execution_count": null,
   "metadata": {},
   "outputs": [
    {
     "data": {
      "text/html": [
       "<div>\n",
       "<style scoped>\n",
       "    .dataframe tbody tr th:only-of-type {\n",
       "        vertical-align: middle;\n",
       "    }\n",
       "\n",
       "    .dataframe tbody tr th {\n",
       "        vertical-align: top;\n",
       "    }\n",
       "\n",
       "    .dataframe thead th {\n",
       "        text-align: right;\n",
       "    }\n",
       "</style>\n",
       "<table border=\"1\" class=\"dataframe\">\n",
       "  <thead>\n",
       "    <tr style=\"text-align: right;\">\n",
       "      <th></th>\n",
       "      <th>Student</th>\n",
       "      <th>ID</th>\n",
       "      <th>Major</th>\n",
       "      <th>GPA</th>\n",
       "    </tr>\n",
       "  </thead>\n",
       "  <tbody>\n",
       "    <tr>\n",
       "      <th>Major</th>\n",
       "      <td>Jane</td>\n",
       "      <td>3</td>\n",
       "      <td>Biology</td>\n",
       "      <td>3.8</td>\n",
       "    </tr>\n",
       "    <tr>\n",
       "      <th>GPA</th>\n",
       "      <td>Alice</td>\n",
       "      <td>4</td>\n",
       "      <td>Computer Science</td>\n",
       "      <td>3.9</td>\n",
       "    </tr>\n",
       "  </tbody>\n",
       "</table>\n",
       "</div>"
      ],
      "text/plain": [
       "      Student  ID             Major  GPA\n",
       "Major    Jane   3           Biology  3.8\n",
       "GPA     Alice   4  Computer Science  3.9"
      ]
     },
     "execution_count": 18,
     "metadata": {},
     "output_type": "execute_result"
    }
   ],
   "source": [
    "#querying a dataframe\n",
    "import pandas as pd\n",
    "\n",
    "df[df['GPA']>3.7]"
   ]
  },
  {
   "cell_type": "code",
   "execution_count": 19,
   "metadata": {},
   "outputs": [
    {
     "data": {
      "text/html": [
       "<div>\n",
       "<style scoped>\n",
       "    .dataframe tbody tr th:only-of-type {\n",
       "        vertical-align: middle;\n",
       "    }\n",
       "\n",
       "    .dataframe tbody tr th {\n",
       "        vertical-align: top;\n",
       "    }\n",
       "\n",
       "    .dataframe thead th {\n",
       "        text-align: right;\n",
       "    }\n",
       "</style>\n",
       "<table border=\"1\" class=\"dataframe\">\n",
       "  <thead>\n",
       "    <tr style=\"text-align: right;\">\n",
       "      <th></th>\n",
       "      <th>Student</th>\n",
       "      <th>ID</th>\n",
       "      <th>Major</th>\n",
       "      <th>GPA</th>\n",
       "    </tr>\n",
       "  </thead>\n",
       "  <tbody>\n",
       "    <tr>\n",
       "      <th>Major</th>\n",
       "      <td>Jane</td>\n",
       "      <td>3</td>\n",
       "      <td>Biology</td>\n",
       "      <td>3.8</td>\n",
       "    </tr>\n",
       "    <tr>\n",
       "      <th>GPA</th>\n",
       "      <td>Alice</td>\n",
       "      <td>4</td>\n",
       "      <td>Computer Science</td>\n",
       "      <td>3.9</td>\n",
       "    </tr>\n",
       "  </tbody>\n",
       "</table>\n",
       "</div>"
      ],
      "text/plain": [
       "      Student  ID             Major  GPA\n",
       "Major    Jane   3           Biology  3.8\n",
       "GPA     Alice   4  Computer Science  3.9"
      ]
     },
     "execution_count": 19,
     "metadata": {},
     "output_type": "execute_result"
    }
   ],
   "source": [
    "#querying with a logical operator\n",
    "import pandas as pd\n",
    "name_1=pd.Series({'Student':'James','ID':1,'Major':'Mathematics','GPA':3.5})    \n",
    "name_2=pd.Series({'Student':'John','ID':2,'Major':'Physics','GPA':3.7})\n",
    "name_3=pd.Series({'Student':'Jane','ID':3,'Major':'Biology','GPA':3.8})\n",
    "name_4=pd.Series({'Student':'Alice','ID':4,'Major':'Computer Science','GPA':3.9})\n",
    "df=pd.DataFrame([name_1, name_2, name_3, name_4],index=['Student','ID','Major','GPA'])\n",
    "df[(df['GPA']>3.7) & (df['ID']>2)] #logical operator\n"
   ]
  },
  {
   "cell_type": "code",
   "execution_count": 1,
   "metadata": {},
   "outputs": [
    {
     "name": "stdout",
     "output_type": "stream",
     "text": [
      "    Name    Age  Major    GPA  Hobbies\n",
      "0  False  False  False  False    False\n",
      "1  False  False  False   True     True\n",
      "2  False  False  False   True     True\n",
      "3  False  False  False   True    False\n"
     ]
    }
   ],
   "source": [
    "#handling missing data\n",
    "import csv\n",
    "import pandas as pd\n",
    "df=pd.read_csv('Book1.csv')\n",
    "print(df.isnull().tail())"
   ]
  },
  {
   "cell_type": "code",
   "execution_count": 2,
   "metadata": {},
   "outputs": [
    {
     "name": "stdout",
     "output_type": "stream",
     "text": [
      "   Name   Age  Major    GPA  Hobbies\n",
      "0  True  True   True   True     True\n",
      "1  True  True   True  False    False\n",
      "2  True  True   True  False    False\n",
      "3  True  True   True  False     True\n"
     ]
    }
   ],
   "source": [
    "#handling missing data\n",
    "import csv\n",
    "import pandas as pd\n",
    "df=pd.read_csv('Book1.csv')\n",
    "print(df.notnull().tail())"
   ]
  },
  {
   "cell_type": "code",
   "execution_count": null,
   "metadata": {},
   "outputs": [
    {
     "name": "stdout",
     "output_type": "stream",
     "text": [
      "Department\n",
      "Engineering    1494331.0\n",
      "Finance        1682558.0\n",
      "HR             1534811.0\n",
      "Marketing      1663602.0\n",
      "Sales          1329831.0\n",
      "Name: Salary, dtype: float64\n"
     ]
    }
   ],
   "source": [
    "#grouping data\n",
    "import csv\n",
    "import pandas as pd\n",
    "df=pd.read_csv('employee_data.csv')\n",
    "print(df.groupby('Department').Salary.sum())"
   ]
  },
  {
   "cell_type": "code",
   "execution_count": 10,
   "metadata": {},
   "outputs": [
    {
     "name": "stdout",
     "output_type": "stream",
     "text": [
      "63325.28571428572\n"
     ]
    }
   ],
   "source": [
    "#grouping data\n",
    "import csv\n",
    "import pandas as pd\n",
    "df=pd.read_csv('employee_data.csv')\n",
    "print(df[df.Department == 'Sales'].Salary.mean())"
   ]
  },
  {
   "cell_type": "code",
   "execution_count": 11,
   "metadata": {},
   "outputs": [
    {
     "name": "stdout",
     "output_type": "stream",
     "text": [
      "                Salary        Age\n",
      "Department                       \n",
      "Engineering  1494331.0  37.315789\n",
      "Finance      1682558.0  49.473684\n",
      "HR           1534811.0  41.947368\n",
      "Marketing    1663602.0  37.619048\n",
      "Sales        1329831.0  30.318182\n"
     ]
    }
   ],
   "source": [
    "#grouping data with aggregate function\n",
    "import csv\n",
    "import pandas as pd\n",
    "df=pd.read_csv('employee_data.csv')\n",
    "print(df.groupby('Department').agg({'Salary':'sum','Age':'mean'}))"
   ]
  },
  {
   "cell_type": "code",
   "execution_count": 14,
   "metadata": {},
   "outputs": [
    {
     "name": "stdout",
     "output_type": "stream",
     "text": [
      "Excellent    B+\n",
      "Excellent    A-\n",
      "Excellent    A+\n",
      "Good         D+\n",
      "Good         C+\n",
      "Name: Grades, dtype: category\n",
      "Categories (13, object): ['A', 'A+', 'A-', 'B', ..., 'D', 'D+', 'D-', 'F']\n"
     ]
    }
   ],
   "source": [
    "#nominal scale in DataFrames\n",
    "import pandas as pd\n",
    "df=pd.DataFrame({'A+','A','A-','B+','B','B-','C+','C','C-','D+','D','D-','F'}, columns=['Grades'],index=['Excellent','Excellent','Excellent','Good','Good','Good','Average','Average','Average','Poor','Poor','Poor','Fail'])\n",
    "df.rename(columns={0:'Grades'}, inplace=True)\n",
    "a=df['Grades'].astype('category').head()\n",
    "print(a)"
   ]
  },
  {
   "cell_type": "code",
   "execution_count": 17,
   "metadata": {},
   "outputs": [
    {
     "name": "stdout",
     "output_type": "stream",
     "text": [
      "Excellent    B+\n",
      "Excellent    A-\n",
      "Excellent    A+\n",
      "Good         D+\n",
      "Good         C+\n",
      "Name: Grades, dtype: category\n",
      "Categories (13, object): ['F' < 'D-' < 'D' < 'D+' ... 'B+' < 'A-' < 'A' < 'A+']\n"
     ]
    }
   ],
   "source": [
    "#ordinal scale in DataFrames\n",
    "import pandas as pd\n",
    "df=pd.DataFrame({'A+','A','A-','B+','B','B-','C+','C','C-','D+','D','D-','F'}, columns=['Grades'],index=['Excellent','Excellent','Excellent','Good','Good','Good','Average','Average','Average','Poor','Poor','Poor','Fail'])   \n",
    "df.rename(columns={0:'Grades'}, inplace=True)\n",
    "from pandas.api.types import CategoricalDtype\n",
    "\n",
    "# Define the ordered categorical type\n",
    "grades_order = CategoricalDtype(categories=['F', 'D-', 'D', 'D+', 'C-', 'C', 'C+', 'B-', 'B', 'B+', 'A-', 'A', 'A+'], ordered=True)\n",
    "\n",
    "# Apply the ordered categorical type to the Grades column\n",
    "grades = df['Grades'].astype(grades_order)\n",
    "print(grades.head())\n"
   ]
  }
 ],
 "metadata": {
  "kernelspec": {
   "display_name": "Python 3",
   "language": "python",
   "name": "python3"
  },
  "language_info": {
   "codemirror_mode": {
    "name": "ipython",
    "version": 3
   },
   "file_extension": ".py",
   "mimetype": "text/x-python",
   "name": "python",
   "nbconvert_exporter": "python",
   "pygments_lexer": "ipython3",
   "version": "3.13.2"
  }
 },
 "nbformat": 4,
 "nbformat_minor": 2
}
